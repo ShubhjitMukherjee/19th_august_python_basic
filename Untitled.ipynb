{
 "cells": [
  {
   "cell_type": "markdown",
   "id": "360c5aef-0206-4a27-9b6a-23b6a0bdd147",
   "metadata": {},
   "source": [
    "Topic String Baased Questions"
   ]
  },
  {
   "cell_type": "markdown",
   "id": "75169cfd-1a8a-4dbd-ac8e-e4e17a44d62e",
   "metadata": {},
   "source": [
    "1. Write a python program that takes a string as input and prints the length of the string.\n",
    "\n"
   ]
  },
  {
   "cell_type": "code",
   "execution_count": 1,
   "id": "71d9632d-dddd-43ea-b743-572ca23e581f",
   "metadata": {},
   "outputs": [
    {
     "name": "stdin",
     "output_type": "stream",
     "text": [
      "Enter the string Hello World\n"
     ]
    },
    {
     "name": "stdout",
     "output_type": "stream",
     "text": [
      "The length of the string Hello World is 11\n"
     ]
    }
   ],
   "source": [
    "# Taking str1 as a string\n",
    "\n",
    "str1 = input(\"Enter the string\")\n",
    "\n",
    "# Taking length as a string\n",
    "\n",
    "Length = len(str1)\n",
    "print(\"The length of the string\" , str1, \"is\", Length)"
   ]
  },
  {
   "cell_type": "markdown",
   "id": "c5846773-edd8-489f-aa94-6e3cd47be791",
   "metadata": {},
   "source": [
    "  2. Create a python that takes a sentence from the user and count the number of vowels (a, e, i, o, u) in the string."
   ]
  },
  {
   "cell_type": "code",
   "execution_count": 2,
   "id": "a5331e91-17c8-4857-97c8-7d54b9100645",
   "metadata": {},
   "outputs": [
    {
     "name": "stdin",
     "output_type": "stream",
     "text": [
      "Enter the sentence hello baby\n"
     ]
    },
    {
     "name": "stdout",
     "output_type": "stream",
     "text": [
      "hello baby\n",
      "count of vowels in given string: 3\n"
     ]
    }
   ],
   "source": [
    "sentence = input(\"Enter the sentence\")\n",
    "#  Lower the sentence to get vowels (a, e, i, o, u)\n",
    "string = sentence.lower()\n",
    "print(string)\n",
    "\n",
    "# Initially the count of vowels is 0\n",
    "\n",
    "vowels =  \"a,e,i,o,u\"\n",
    "count = 0\n",
    "# now, we increase the count to count+1 to check the vowela in sentence\n",
    "\n",
    "for i in string:\n",
    "    if i in vowels:\n",
    "        count = count+1\n",
    "        \n",
    "print(\"count of vowels in given string:\", count)        "
   ]
  },
  {
   "cell_type": "markdown",
   "id": "4fb6cde2-7458-489b-bb20-60966398103c",
   "metadata": {},
   "source": [
    "3. Given a string, reverse the order of character using string slicing and print the reversed string. \n"
   ]
  },
  {
   "cell_type": "code",
   "execution_count": 3,
   "id": "1b682666-82a7-4655-b6ca-4bc7562d9808",
   "metadata": {},
   "outputs": [
    {
     "name": "stdout",
     "output_type": "stream",
     "text": [
      "After reversing the string str1 we get : ecneicS ataD kcatS lluF\n"
     ]
    }
   ],
   "source": [
    "# taking the string as str1\n",
    "str1 = \"Full Stack Data Science\"\n",
    "\n",
    "# Reversing the string using string slicing\n",
    "string =str1[::-1]\n",
    "\n",
    "print(\"After reversing the string str1 we get :\", string)"
   ]
  },
  {
   "cell_type": "markdown",
   "id": "f2361422-a5d2-49c4-8e9a-e4e1e31e004a",
   "metadata": {},
   "source": [
    "4. Creat a python program that takes a string as input and removes all the spaces from it.\n",
    "Print the modified string without spaces "
   ]
  },
  {
   "cell_type": "code",
   "execution_count": 5,
   "id": "7a638783-cce7-43c9-92bf-0dcc3b1f45b9",
   "metadata": {},
   "outputs": [
    {
     "name": "stdin",
     "output_type": "stream",
     "text": [
      "Enter the text      hello    \n"
     ]
    }
   ],
   "source": [
    "# Python remove spaces from a strin\n",
    "\n",
    "a =input(\"Enter the text\")\n",
    "\n",
    "# To remove the spaces form a string we use replace function, and prin the modefied string\n",
    "\n",
    "modefied_string = a.replace(\" \", \"\")\n",
    "print(\"The modified string without spaces is:\", modefied_string)"
   ]
  },
  {
   "cell_type": "markdown",
   "id": "880269fb-9da1-46c3-a2d7-40a1882652ed",
   "metadata": {},
   "source": [
    "5. write a program that takes a string as input and check if it is a palindrome (reads the same forward and backward) "
   ]
  },
  {
   "cell_type": "code",
   "execution_count": 12,
   "id": "dbf856e3-6948-4528-9c5b-9f300e5ea9ba",
   "metadata": {},
   "outputs": [
    {
     "name": "stdin",
     "output_type": "stream",
     "text": [
      "Enter a string:  hello\n"
     ]
    },
    {
     "name": "stdout",
     "output_type": "stream",
     "text": [
      "It is not a palindrome.\n"
     ]
    }
   ],
   "source": [
    "def is_palindrome(s) :\n",
    "    s = s.lower() #convert to lowercase for case-insensetive comparision\n",
    "    s = ''.join(filter(str.isalnum, s))\n",
    "    return s ==s[::-1]\n",
    "\n",
    "input_string = input(\"Enter a string: \")\n",
    "if is_palindrome(input_string):\n",
    "    print (\"It is a palindrome!\")\n",
    "else:\n",
    "        print(\"It is not a palindrome.\")"
   ]
  },
  {
   "cell_type": "code",
   "execution_count": null,
   "id": "370f0c67-4413-4a0e-b96d-e438e14dd267",
   "metadata": {},
   "outputs": [],
   "source": []
  },
  {
   "cell_type": "markdown",
   "id": "0e425b55-b56f-46c2-a53a-471f9c8a5e08",
   "metadata": {},
   "source": [
    "Pyhton Basics Variable"
   ]
  },
  {
   "cell_type": "markdown",
   "id": "4543ae22-ebd3-4e6a-a0ee-034d9d9a6a9b",
   "metadata": {},
   "source": [
    "1. Declare two variable, 'x' and 'y', and assign them integer values. Swap the valus \n",
    "   of these variables without using any temporary variable. "
   ]
  },
  {
   "cell_type": "code",
   "execution_count": 21,
   "id": "032a025a-3b15-4442-8dd1-f32b168e435f",
   "metadata": {},
   "outputs": [
    {
     "name": "stdout",
     "output_type": "stream",
     "text": [
      "After swapping: \n",
      "x = 10\n",
      "y = 5\n"
     ]
    }
   ],
   "source": [
    "   x = 5\n",
    "   y = 10\n",
    "    \n",
    "   x = x + y\n",
    "   y = x - y\n",
    "   x = x - y\n",
    "\n",
    "\n",
    "print (\"After swapping: \")\n",
    "print (\"x =\", x)\n",
    "print (\"y =\", y)\n",
    "   \n",
    "    "
   ]
  },
  {
   "cell_type": "markdown",
   "id": "92fbdcf8-bf6a-4ad6-93d7-7f784a442cd4",
   "metadata": {},
   "source": [
    "2. create a program that calculates the area of a rectangle. Take the length and width as inputs from\n",
    "the user and store them in variable. calculate and display the area."
   ]
  },
  {
   "cell_type": "code",
   "execution_count": 1,
   "id": "da1aa296-b41f-48d5-9f57-f192c6cf830c",
   "metadata": {},
   "outputs": [
    {
     "name": "stdin",
     "output_type": "stream",
     "text": [
      "Enter the length of the rectangle: 55\n",
      "Enter the width of the rectangle: 66\n"
     ]
    },
    {
     "name": "stdout",
     "output_type": "stream",
     "text": [
      "the Area of rectangle is :  3630.0\n"
     ]
    }
   ],
   "source": [
    "length = float(input(\"Enter the length of the rectangle:\"))\n",
    "width  = float(input(\"Enter the width of the rectangle:\")) \n",
    "\n",
    "#Calculating the area of the rectangle \n",
    "Area = length * width\n",
    "\n",
    "#displaying the area\n",
    "print('the Area of rectangle is : ', Area)\n"
   ]
  },
  {
   "cell_type": "markdown",
   "id": "44dc0950-1fc5-48b5-8904-e1ab95de89e7",
   "metadata": {},
   "source": [
    "3. Write a python program that converts temperature from Celsius to Farenheit. Take the temperature in Celsius as input , store it in a variable, convert it to farenheit, and display the result."
   ]
  },
  {
   "cell_type": "code",
   "execution_count": 14,
   "id": "1d5a6b56-eb19-44e8-81b5-cdb141fb4881",
   "metadata": {},
   "outputs": [
    {
     "name": "stdin",
     "output_type": "stream",
     "text": [
      "Enter the temperature into celsius: 0\n"
     ]
    },
    {
     "name": "stdout",
     "output_type": "stream",
     "text": [
      "Temperature in farenheit : 32.0\n"
     ]
    }
   ],
   "source": [
    "# Function convert from celsius to farenheit\n",
    "def celsius_to_farenheit(celsius):\n",
    " return (celsius * 9/5) + 32\n",
    "\n",
    "#taking input from user\n",
    "celsius = float(input(\"Enter the temperature into celsius:\"))\n",
    "\n",
    "# converting from celsious to farenheit\n",
    "farenheit = celsius_to_farenheit(celsius)\n",
    "print(\"Temperature in farenheit :\", farenheit)"
   ]
  },
  {
   "cell_type": "code",
   "execution_count": null,
   "id": "36552145-b785-43a8-9580-0e71f7bae79b",
   "metadata": {},
   "outputs": [],
   "source": []
  }
 ],
 "metadata": {
  "kernelspec": {
   "display_name": "Python 3 (ipykernel)",
   "language": "python",
   "name": "python3"
  },
  "language_info": {
   "codemirror_mode": {
    "name": "ipython",
    "version": 3
   },
   "file_extension": ".py",
   "mimetype": "text/x-python",
   "name": "python",
   "nbconvert_exporter": "python",
   "pygments_lexer": "ipython3",
   "version": "3.10.8"
  }
 },
 "nbformat": 4,
 "nbformat_minor": 5
}
